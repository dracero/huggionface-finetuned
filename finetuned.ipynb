{
 "cells": [
  {
   "cell_type": "code",
   "execution_count": 2,
   "metadata": {},
   "outputs": [],
   "source": [
    "!pip install -q transformers"
   ]
  },
  {
   "cell_type": "code",
   "execution_count": 5,
   "metadata": {},
   "outputs": [
    {
     "name": "stdout",
     "output_type": "stream",
     "text": [
      "Defaulting to user installation because normal site-packages is not writeable\n",
      "Looking in indexes: https://pypi.org/simple, https://download.pytorch.org/whl/cu116\n",
      "Requirement already satisfied: torch in /home/diego/.local/lib/python3.8/site-packages (1.8.1+cu111)\n",
      "Requirement already satisfied: torchvision in /home/diego/.local/lib/python3.8/site-packages (0.9.1+cu111)\n",
      "Requirement already satisfied: torchaudio in /home/diego/.local/lib/python3.8/site-packages (0.8.1)\n",
      "Requirement already satisfied: typing-extensions in /home/diego/.local/lib/python3.8/site-packages (from torch) (4.2.0)\n",
      "Requirement already satisfied: numpy in /home/diego/.local/lib/python3.8/site-packages (from torch) (1.22.4)\n",
      "Requirement already satisfied: pillow>=4.1.1 in /usr/lib/python3/dist-packages (from torchvision) (7.0.0)\n"
     ]
    }
   ],
   "source": [
    "!pip3 install torch torchvision torchaudio --extra-index-url https://download.pytorch.org/whl/cu116"
   ]
  },
  {
   "cell_type": "code",
   "execution_count": 6,
   "metadata": {},
   "outputs": [],
   "source": [
    "from transformers import *"
   ]
  },
  {
   "cell_type": "code",
   "execution_count": 7,
   "metadata": {},
   "outputs": [
    {
     "name": "stderr",
     "output_type": "stream",
     "text": [
      "loading configuration file config.json from cache at /home/diego/.cache/huggingface/hub/models--dracero--autotrain-preguntas-1711860065/snapshots/b36365ac8ec4dd2e90de5360b787cfc5084d6cdd/config.json\n",
      "Model config BertConfig {\n",
      "  \"_name_or_path\": \"dracero/autotrain-preguntas-1711860065\",\n",
      "  \"architectures\": [\n",
      "    \"BertForQuestionAnswering\"\n",
      "  ],\n",
      "  \"attention_probs_dropout_prob\": 0.1,\n",
      "  \"classifier_dropout\": null,\n",
      "  \"hidden_act\": \"gelu\",\n",
      "  \"hidden_dropout_prob\": 0.1,\n",
      "  \"hidden_size\": 768,\n",
      "  \"initializer_range\": 0.02,\n",
      "  \"intermediate_size\": 3072,\n",
      "  \"layer_norm_eps\": 1e-12,\n",
      "  \"max_length\": 512,\n",
      "  \"max_position_embeddings\": 512,\n",
      "  \"model_type\": \"bert\",\n",
      "  \"num_attention_heads\": 12,\n",
      "  \"num_hidden_layers\": 12,\n",
      "  \"output_past\": true,\n",
      "  \"pad_token_id\": 1,\n",
      "  \"padding\": \"max_length\",\n",
      "  \"position_embedding_type\": \"absolute\",\n",
      "  \"torch_dtype\": \"float32\",\n",
      "  \"transformers_version\": \"4.22.0\",\n",
      "  \"type_vocab_size\": 2,\n",
      "  \"use_cache\": true,\n",
      "  \"vocab_size\": 31002\n",
      "}\n",
      "\n",
      "loading configuration file config.json from cache at /home/diego/.cache/huggingface/hub/models--dracero--autotrain-preguntas-1711860065/snapshots/b36365ac8ec4dd2e90de5360b787cfc5084d6cdd/config.json\n",
      "Model config BertConfig {\n",
      "  \"_name_or_path\": \"dracero/autotrain-preguntas-1711860065\",\n",
      "  \"architectures\": [\n",
      "    \"BertForQuestionAnswering\"\n",
      "  ],\n",
      "  \"attention_probs_dropout_prob\": 0.1,\n",
      "  \"classifier_dropout\": null,\n",
      "  \"hidden_act\": \"gelu\",\n",
      "  \"hidden_dropout_prob\": 0.1,\n",
      "  \"hidden_size\": 768,\n",
      "  \"initializer_range\": 0.02,\n",
      "  \"intermediate_size\": 3072,\n",
      "  \"layer_norm_eps\": 1e-12,\n",
      "  \"max_length\": 512,\n",
      "  \"max_position_embeddings\": 512,\n",
      "  \"model_type\": \"bert\",\n",
      "  \"num_attention_heads\": 12,\n",
      "  \"num_hidden_layers\": 12,\n",
      "  \"output_past\": true,\n",
      "  \"pad_token_id\": 1,\n",
      "  \"padding\": \"max_length\",\n",
      "  \"position_embedding_type\": \"absolute\",\n",
      "  \"torch_dtype\": \"float32\",\n",
      "  \"transformers_version\": \"4.22.0\",\n",
      "  \"type_vocab_size\": 2,\n",
      "  \"use_cache\": true,\n",
      "  \"vocab_size\": 31002\n",
      "}\n",
      "\n"
     ]
    },
    {
     "data": {
      "application/vnd.jupyter.widget-view+json": {
       "model_id": "176aec8e914b40639774ffc2519c2703",
       "version_major": 2,
       "version_minor": 0
      },
      "text/plain": [
       "Downloading:   0%|          | 0.00/437M [00:00<?, ?B/s]"
      ]
     },
     "metadata": {},
     "output_type": "display_data"
    },
    {
     "name": "stderr",
     "output_type": "stream",
     "text": [
      "loading weights file pytorch_model.bin from cache at /home/diego/.cache/huggingface/hub/models--dracero--autotrain-preguntas-1711860065/snapshots/b36365ac8ec4dd2e90de5360b787cfc5084d6cdd/pytorch_model.bin\n",
      "All model checkpoint weights were used when initializing BertForQuestionAnswering.\n",
      "\n",
      "All the weights of BertForQuestionAnswering were initialized from the model checkpoint at dracero/autotrain-preguntas-1711860065.\n",
      "If your task is similar to the task the model of the checkpoint was trained on, you can already use BertForQuestionAnswering for predictions without further training.\n"
     ]
    },
    {
     "data": {
      "application/vnd.jupyter.widget-view+json": {
       "model_id": "d21bad2459f444e4bbe066be6c86fad8",
       "version_major": 2,
       "version_minor": 0
      },
      "text/plain": [
       "Downloading:   0%|          | 0.00/542 [00:00<?, ?B/s]"
      ]
     },
     "metadata": {},
     "output_type": "display_data"
    },
    {
     "data": {
      "application/vnd.jupyter.widget-view+json": {
       "model_id": "1c82bcada18f4d8e95b959932388c0be",
       "version_major": 2,
       "version_minor": 0
      },
      "text/plain": [
       "Downloading:   0%|          | 0.00/242k [00:00<?, ?B/s]"
      ]
     },
     "metadata": {},
     "output_type": "display_data"
    },
    {
     "data": {
      "application/vnd.jupyter.widget-view+json": {
       "model_id": "d7faa282dfa94bf385aa25559e08594c",
       "version_major": 2,
       "version_minor": 0
      },
      "text/plain": [
       "Downloading:   0%|          | 0.00/125 [00:00<?, ?B/s]"
      ]
     },
     "metadata": {},
     "output_type": "display_data"
    },
    {
     "name": "stderr",
     "output_type": "stream",
     "text": [
      "loading file vocab.txt from cache at /home/diego/.cache/huggingface/hub/models--dracero--autotrain-preguntas-1711860065/snapshots/b36365ac8ec4dd2e90de5360b787cfc5084d6cdd/vocab.txt\n",
      "loading file added_tokens.json from cache at None\n",
      "loading file special_tokens_map.json from cache at /home/diego/.cache/huggingface/hub/models--dracero--autotrain-preguntas-1711860065/snapshots/b36365ac8ec4dd2e90de5360b787cfc5084d6cdd/special_tokens_map.json\n",
      "loading file tokenizer_config.json from cache at /home/diego/.cache/huggingface/hub/models--dracero--autotrain-preguntas-1711860065/snapshots/b36365ac8ec4dd2e90de5360b787cfc5084d6cdd/tokenizer_config.json\n"
     ]
    }
   ],
   "source": [
    "# By now we do not use fast tokenizer so we create the tokenizer with the object {\"use_fast\": False}\n",
    "nlp = pipeline(\n",
    "    'question-answering', \n",
    "    model='dracero/autotrain-preguntas-1711860065',\n",
    "    tokenizer=(\n",
    "        'dracero/autotrain-preguntas-1711860065',  \n",
    "        {\"use_fast\": False}\n",
    "    )\n",
    ")"
   ]
  },
  {
   "cell_type": "code",
   "execution_count": 60,
   "metadata": {},
   "outputs": [],
   "source": [
    "#Acá vamos a poner un texto para luego buscar en haciendo preguntas\n",
    "context = 'El primer término es la velocidad del punto P, el segundo la velocidad del centro demasas y el tercero es la velocidad del punto P respecto del centro de masas.Como el vector R tiene módulo constante, el único movimiento posible de P respecto de C es una rotación con velocidad angular ω alrededor de un eje instantáneo que pase por C, tal como se ve en la figura de la derecha. Por tanto, el movimiento de un punto P del sólido se puede considerar como la suma de un movimiento de traslación del centro de masas más una rotación alrededor de un eje instantáneo que pasa por el centro de masas. Los cuerpos rígidos tienen como movimiento general una composición de un movimiento de traslación más otro de rotación. Siempre es posible encontrar un sistema de referencia en traslación pero no rotante respecto del cual el movimiento del cuerpo parezca solo de rotación. Para un cuerpo rígido, si se conoce dónde está en un momento determinado una partícula y el ángulo θ de rotación del cuerpo respecto a la posición original, conocemos el resto de las posiciones de los puntos.\tEl movimiento general de un sólido rígido es la composición de un movimiento de traslación del centro de masas y de un movimiento de rotación alrededor de un eje que pasa por el centro de masas. En el movimiento de traslación, todos los puntos del sólido se mueven en trayectorias paralelas. La velocidad de un punto del sólido es la misma que la velocidad del centro de masas. En el movimiento de rotación alrededor de un eje que pasa por el centro de masas, la velocidad de ununto del sólido es proporcional la radio de la circunferencia que describe, y su dirección es tangente a dicha circunferencia.'"
   ]
  },
  {
   "cell_type": "code",
   "execution_count": 61,
   "metadata": {},
   "outputs": [
    {
     "data": {
      "text/plain": [
       "{'score': 0.0007706276956014335,\n",
       " 'start': 1196,\n",
       " 'end': 1271,\n",
       " 'answer': 'movimiento de rotación alrededor de un eje que pasa por el centro de masas.'}"
      ]
     },
     "execution_count": 61,
     "metadata": {},
     "output_type": "execute_result"
    }
   ],
   "source": [
    "nlp(\n",
    "    {\n",
    "        'question': '¿Qué movimiento puede hacer un punto de un cuerpo rígido? ',\n",
    "        'context': context\n",
    "    }\n",
    ")"
   ]
  },
  {
   "cell_type": "code",
   "execution_count": 62,
   "metadata": {},
   "outputs": [
    {
     "data": {
      "text/plain": [
       "{'score': 0.20774304866790771,\n",
       " 'start': 1304,\n",
       " 'end': 1368,\n",
       " 'answer': 'todos los puntos del sólido se mueven en trayectorias paralelas.'}"
      ]
     },
     "execution_count": 62,
     "metadata": {},
     "output_type": "execute_result"
    }
   ],
   "source": [
    "nlp(\n",
    "    {\n",
    "        'question': '¿Qué sucede durante el movimiento de translación de un cuerpo rígido? ',\n",
    "        'context': context\n",
    "    }\n",
    ")"
   ]
  },
  {
   "cell_type": "code",
   "execution_count": 69,
   "metadata": {},
   "outputs": [],
   "source": [
    "context = 'Cuando el cuerpo rígido realiza un movimiento de rotación o rototraslación alrededor de alguno de sus ejes principales de inercia el momento angular puede calcularse como la suma del momento orbital más el momento de spin. Si no se cumple la condición de rotación alrededor de un eje principal de inercia o eje de simetría entonces el momento de inercia es un tensor. Los ejes principales de inercia son los ejes de simetría'"
   ]
  },
  {
   "cell_type": "code",
   "execution_count": 70,
   "metadata": {},
   "outputs": [
    {
     "data": {
      "text/plain": [
       "{'score': 0.5942493081092834,\n",
       " 'start': 404,\n",
       " 'end': 423,\n",
       " 'answer': 'los ejes de simetría'}"
      ]
     },
     "execution_count": 70,
     "metadata": {},
     "output_type": "execute_result"
    }
   ],
   "source": [
    "nlp(\n",
    "    {\n",
    "        'question': '¿cuales son los ejes principales de inercia? ',\n",
    "        'context': context\n",
    "    }\n",
    ")"
   ]
  },
  {
   "cell_type": "code",
   "execution_count": 71,
   "metadata": {},
   "outputs": [
    {
     "data": {
      "text/plain": [
       "{'score': 0.056486621499061584,\n",
       " 'start': 171,\n",
       " 'end': 222,\n",
       " 'answer': 'la suma del momento orbital más el momento de spin.'}"
      ]
     },
     "execution_count": 71,
     "metadata": {},
     "output_type": "execute_result"
    }
   ],
   "source": [
    "nlp(\n",
    "    {\n",
    "        'question': '¿Cómo se calcula el  momento angular de un cuerpo rígido',\n",
    "        'context': context\n",
    "    }\n",
    ")"
   ]
  },
  {
   "cell_type": "code",
   "execution_count": 72,
   "metadata": {},
   "outputs": [
    {
     "data": {
      "text/plain": [
       "{'score': 0.002255981555208564,\n",
       " 'start': 171,\n",
       " 'end': 222,\n",
       " 'answer': 'la suma del momento orbital más el momento de spin.'}"
      ]
     },
     "execution_count": 72,
     "metadata": {},
     "output_type": "execute_result"
    }
   ],
   "source": [
    "nlp(\n",
    "    {\n",
    "        'question': '¿Cómo hago para haller momento angular de un cuerpo rígido',\n",
    "        'context': context\n",
    "    }\n",
    ")"
   ]
  },
  {
   "cell_type": "code",
   "execution_count": 1,
   "metadata": {},
   "outputs": [
    {
     "data": {
      "application/vnd.jupyter.widget-view+json": {
       "model_id": "863f43dc25c247238d25812ddd4888e6",
       "version_major": 2,
       "version_minor": 0
      },
      "text/plain": [
       "Downloading:   0%|          | 0.00/528 [00:00<?, ?B/s]"
      ]
     },
     "metadata": {},
     "output_type": "display_data"
    },
    {
     "data": {
      "application/vnd.jupyter.widget-view+json": {
       "model_id": "84056d6eadb24525ba985a4611e3f9a7",
       "version_major": 2,
       "version_minor": 0
      },
      "text/plain": [
       "Downloading:   0%|          | 0.00/834 [00:00<?, ?B/s]"
      ]
     },
     "metadata": {},
     "output_type": "display_data"
    },
    {
     "data": {
      "application/vnd.jupyter.widget-view+json": {
       "model_id": "b5a73688b59a4b6b8dbee4e251f16d10",
       "version_major": 2,
       "version_minor": 0
      },
      "text/plain": [
       "Downloading:   0%|          | 0.00/242k [00:00<?, ?B/s]"
      ]
     },
     "metadata": {},
     "output_type": "display_data"
    },
    {
     "data": {
      "application/vnd.jupyter.widget-view+json": {
       "model_id": "ee382f6b1ebd4dc8bf7e33a38b3a5f7c",
       "version_major": 2,
       "version_minor": 0
      },
      "text/plain": [
       "Downloading:   0%|          | 0.00/112 [00:00<?, ?B/s]"
      ]
     },
     "metadata": {},
     "output_type": "display_data"
    },
    {
     "data": {
      "application/vnd.jupyter.widget-view+json": {
       "model_id": "b5bf161eae7c4a85b1dcce72904f0d97",
       "version_major": 2,
       "version_minor": 0
      },
      "text/plain": [
       "Downloading:   0%|          | 0.00/440M [00:00<?, ?B/s]"
      ]
     },
     "metadata": {},
     "output_type": "display_data"
    }
   ],
   "source": [
    "from transformers import AutoTokenizer, AutoModelForSequenceClassification\n",
    "\n",
    "tokenizer = AutoTokenizer.from_pretrained(\"Recognai/bert-base-spanish-wwm-cased-xnli\")\n",
    "\n",
    "model = AutoModelForSequenceClassification.from_pretrained(\"Recognai/bert-base-spanish-wwm-cased-xnli\")"
   ]
  },
  {
   "cell_type": "code",
   "execution_count": 2,
   "metadata": {},
   "outputs": [
    {
     "data": {
      "text/plain": [
       "{'sequence': 'El Gobierno dará inicio desde mañana al nuevo esquema para gastos con tarjeta de crédito en dólares, que implicará un precio más alto para este tipo de consumos en divisas, que superará los 300 pesos,',\n",
       " 'labels': ['economia', 'cultura', 'sociedad', 'salud', 'deportes'],\n",
       " 'scores': [0.3946817219257355,\n",
       "  0.26727452874183655,\n",
       "  0.12037284672260284,\n",
       "  0.11900702863931656,\n",
       "  0.09866386651992798]}"
      ]
     },
     "execution_count": 2,
     "metadata": {},
     "output_type": "execute_result"
    }
   ],
   "source": [
    "from transformers import pipeline\n",
    "classifier = pipeline(\"zero-shot-classification\", \n",
    "                       model=\"Recognai/bert-base-spanish-wwm-cased-xnli\")\n",
    "\n",
    "classifier(\n",
    "    \"El Gobierno dará inicio desde mañana al nuevo esquema para gastos con tarjeta de crédito en dólares, que implicará un precio más alto para este tipo de consumos en divisas, que superará los 300 pesos,\",\n",
    "    candidate_labels=[\"cultura\", \"sociedad\", \"economia\", \"salud\", \"deportes\"],\n",
    "    hypothesis_template=\"Este ejemplo es {}.\"\n",
    ")"
   ]
  },
  {
   "cell_type": "code",
   "execution_count": 5,
   "metadata": {},
   "outputs": [],
   "source": [
    "texto = 'El universo del cannabis legal se expande a gran velocidad. El Estado argentino presentó este martes “Cannabis Conicet”, una empresa nacional de Base Tecnológica dedicada a la industria de la planta de marihuana, conformada y dirigida por científicos del organismo, con la idea de “permitir la democratización de la producción, distribución y acceso al cannabis y la industria del cáñamo”, tal como adelantó el propio ministro de Ciencia y Tecnología, Daniel Filmus, durante la jornada de estreno.Tal como anticipó la semana pasada la newsletter Señales de Humo, de Infobae, y a pesar de que todavía no está reglamentada la ley que habilita la producción a escala industrial de cannabis (hay tiempo hasta el 5 de noviembre, si no se cae la legislación), Cannabis Conicet fue presentada en sociedad este martes en la Universidad Nacional Arturo Jauretche, en Florencio Varela.En esta oportunidad presentamos una empresa de base tecnológica que va permitir asegurar la calidad, el uso seguro del cannabis medicinal, su acceso, fortalecer la cadena productiva, y algo más allá de esto y muy satisfactorio, es poder contar con las semillas propias, es un tema de soberanía científica”, comentó Ana Franchi, presidenta del Conicet.La empresa se conforma para unir varios servicios que ya eran ofrecidos por la Red Argentina de Cannabis Medicinal del Conicet (Racme): servicio de control de calidad de productos que tengan cannabis y derivados (como cromatografías); capacitación para la comunidad y profesionales de la salud (ya existe la Diplomatura en Cannabis Medicinal en la Universidad Jauretche, que va por su segunda cohorte) y se le piensa agregar soporte y asesoramiento para hacer ensayos clínicos y observacionales, además de la venta de semillas de genética propia, con un banco de semillas y un cultivar en Puerto Madryn.'"
   ]
  },
  {
   "cell_type": "code",
   "execution_count": 6,
   "metadata": {},
   "outputs": [
    {
     "data": {
      "text/plain": [
       "{'sequence': 'El universo del cannabis legal se expande a gran velocidad. El Estado argentino presentó este martes “Cannabis Conicet”, una empresa nacional de Base Tecnológica dedicada a la industria de la planta de marihuana, conformada y dirigida por científicos del organismo, con la idea de “permitir la democratización de la producción, distribución y acceso al cannabis y la industria del cáñamo”, tal como adelantó el propio ministro de Ciencia y Tecnología, Daniel Filmus, durante la jornada de estreno.Tal como anticipó la semana pasada la newsletter Señales de Humo, de Infobae, y a pesar de que todavía no está reglamentada la ley que habilita la producción a escala industrial de cannabis (hay tiempo hasta el 5 de noviembre, si no se cae la legislación), Cannabis Conicet fue presentada en sociedad este martes en la Universidad Nacional Arturo Jauretche, en Florencio Varela.En esta oportunidad presentamos una empresa de base tecnológica que va permitir asegurar la calidad, el uso seguro del cannabis medicinal, su acceso, fortalecer la cadena productiva, y algo más allá de esto y muy satisfactorio, es poder contar con las semillas propias, es un tema de soberanía científica”, comentó Ana Franchi, presidenta del Conicet.La empresa se conforma para unir varios servicios que ya eran ofrecidos por la Red Argentina de Cannabis Medicinal del Conicet (Racme): servicio de control de calidad de productos que tengan cannabis y derivados (como cromatografías); capacitación para la comunidad y profesionales de la salud (ya existe la Diplomatura en Cannabis Medicinal en la Universidad Jauretche, que va por su segunda cohorte) y se le piensa agregar soporte y asesoramiento para hacer ensayos clínicos y observacionales, además de la venta de semillas de genética propia, con un banco de semillas y un cultivar en Puerto Madryn.',\n",
       " 'labels': ['sociedad', 'salud', 'cultura', 'deportes', 'economia'],\n",
       " 'scores': [0.8320492506027222,\n",
       "  0.08401992172002792,\n",
       "  0.04530865326523781,\n",
       "  0.02345559000968933,\n",
       "  0.015166528522968292]}"
      ]
     },
     "execution_count": 6,
     "metadata": {},
     "output_type": "execute_result"
    }
   ],
   "source": [
    "from transformers import pipeline\n",
    "classifier = pipeline(\"zero-shot-classification\", \n",
    "                       model=\"Recognai/bert-base-spanish-wwm-cased-xnli\")\n",
    "\n",
    "classifier(\n",
    "    texto,\n",
    "    candidate_labels=[\"cultura\", \"sociedad\", \"economia\", \"salud\", \"deportes\"],\n",
    "    hypothesis_template=\"Este ejemplo es {}.\"\n",
    ")"
   ]
  }
 ],
 "metadata": {
  "kernelspec": {
   "display_name": "Python 3.8.10 64-bit",
   "language": "python",
   "name": "python3"
  },
  "language_info": {
   "codemirror_mode": {
    "name": "ipython",
    "version": 3
   },
   "file_extension": ".py",
   "mimetype": "text/x-python",
   "name": "python",
   "nbconvert_exporter": "python",
   "pygments_lexer": "ipython3",
   "version": "3.8.10"
  },
  "orig_nbformat": 4,
  "vscode": {
   "interpreter": {
    "hash": "916dbcbb3f70747c44a77c7bcd40155683ae19c65e1c03b4aa3499c5328201f1"
   }
  }
 },
 "nbformat": 4,
 "nbformat_minor": 2
}
